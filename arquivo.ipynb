{
 "cells": [
  {
   "cell_type": "markdown",
   "id": "bd5f8e8d",
   "metadata": {},
   "source": [
    "O objetivo deste projeto é prever a **quantidade de consumo mensal** com base em variáveis \n",
    "disponíveis no dataset `DasaMatHosp.xlsx`.\n",
    "\n",
    "A variável alvo é: **quantidade_consumo_mensal**.\n",
    "\n",
    "Esse tipo de previsão é útil para **gestão de recursos hospitalares**, pois permite antecipar \n",
    "necessidades de consumo e otimizar logística de suprimentos.\n",
    "\n"
   ]
  },
  {
   "cell_type": "code",
   "execution_count": null,
   "id": "c88d519a",
   "metadata": {},
   "outputs": [
    {
     "ename": "ModuleNotFoundError",
     "evalue": "No module named 'seaborn'",
     "output_type": "error",
     "traceback": [
      "\u001b[31m---------------------------------------------------------------------------\u001b[39m",
      "\u001b[31mModuleNotFoundError\u001b[39m                       Traceback (most recent call last)",
      "\u001b[36mCell\u001b[39m\u001b[36m \u001b[39m\u001b[32mIn[2]\u001b[39m\u001b[32m, line 4\u001b[39m\n\u001b[32m      2\u001b[39m \u001b[38;5;28;01mimport\u001b[39;00m\u001b[38;5;250m \u001b[39m\u001b[34;01mnumpy\u001b[39;00m\u001b[38;5;250m \u001b[39m\u001b[38;5;28;01mas\u001b[39;00m\u001b[38;5;250m \u001b[39m\u001b[34;01mnp\u001b[39;00m\n\u001b[32m      3\u001b[39m \u001b[38;5;66;03m# import matplotlib.pyplot as plt\u001b[39;00m\n\u001b[32m----> \u001b[39m\u001b[32m4\u001b[39m \u001b[38;5;28;01mimport\u001b[39;00m\u001b[38;5;250m \u001b[39m\u001b[34;01mseaborn\u001b[39;00m\u001b[38;5;250m \u001b[39m\u001b[38;5;28;01mas\u001b[39;00m\u001b[38;5;250m \u001b[39m\u001b[34;01msns\u001b[39;00m\n\u001b[32m      5\u001b[39m \u001b[38;5;28;01mimport\u001b[39;00m\u001b[38;5;250m \u001b[39m\u001b[34;01mstatsmodels\u001b[39;00m\u001b[34;01m.\u001b[39;00m\u001b[34;01mapi\u001b[39;00m\u001b[38;5;250m \u001b[39m\u001b[38;5;28;01mas\u001b[39;00m\u001b[38;5;250m \u001b[39m\u001b[34;01msm\u001b[39;00m\n\u001b[32m      6\u001b[39m \u001b[38;5;28;01mfrom\u001b[39;00m\u001b[38;5;250m \u001b[39m\u001b[34;01msklearn\u001b[39;00m\u001b[34;01m.\u001b[39;00m\u001b[34;01mmodel_selection\u001b[39;00m\u001b[38;5;250m \u001b[39m\u001b[38;5;28;01mimport\u001b[39;00m cross_val_score, KFold\n",
      "\u001b[31mModuleNotFoundError\u001b[39m: No module named 'seaborn'"
     ]
    }
   ],
   "source": [
    "import pandas as pd\n",
    "import numpy as np\n",
    "import matplotlib.pyplot as plt\n",
    "import seaborn as sns\n",
    "import statsmodels.api as sm\n",
    "from sklearn.model_selection import cross_val_score, KFold\n",
    "from sklearn.linear_model import LinearRegression\n",
    "from sklearn.metrics import r2_score, mean_squared_error\n",
    "\n",
    "# Carregar os dados\n",
    "df = pd.read_excel(\"DasaMatHosp.xlsx\")\n",
    "\n",
    "# Visualizar primeiras linhas\n",
    "df.head()\n"
   ]
  },
  {
   "cell_type": "markdown",
   "id": "e2cc30f5",
   "metadata": {},
   "source": [
    "Antes de aplicar regressão linear, precisamos verificar alguns pressupostos:\n",
    "\n",
    "- **Linearidade**: a relação entre variáveis independentes e a variável alvo deve ser aproximadamente linear.\n",
    "- **Homoscedasticidade**: os resíduos devem ter variância constante.\n",
    "- **Normalidade dos resíduos**: os erros devem seguir distribuição aproximadamente normal.\n",
    "- **Ausência de multicolinearidade**: as variáveis independentes não podem ser altamente correlacionadas entre si.\n",
    "\n",
    "Essas verificações serão feitas após o ajuste dos modelos.\n"
   ]
  },
  {
   "cell_type": "markdown",
   "id": "6fa42a45",
   "metadata": {},
   "source": [
    "Vamos começar com um modelo simples, relacionando apenas **uma variável independente** \n",
    "com a quantidade de consumo mensal.  \n",
    "\n",
    "Para este exemplo, utilizaremos a variável **tempo_fidelidade** (ou outra que exista no dataset).\n"
   ]
  },
  {
   "cell_type": "code",
   "execution_count": null,
   "id": "c3a9ce59",
   "metadata": {},
   "outputs": [],
   "source": [
    "# Definindo variáveis\n",
    "X = df[['tempo_fidelidade']]   # variável independente de exemplo\n",
    "y = df['quantidade_consumo_mensal']  # variável alvo\n",
    "\n",
    "# Treinando modelo simples\n",
    "modelo_simples = LinearRegression()\n",
    "modelo_simples.fit(X, y)\n",
    "\n",
    "print(\"Coeficiente (inclinação):\", modelo_simples.coef_[0])\n",
    "print(\"Intercepto:\", modelo_simples.intercept_)\n"
   ]
  },
  {
   "cell_type": "markdown",
   "id": "c4027bac",
   "metadata": {},
   "source": [
    "- **Coeficiente (inclinação):** representa a variação média no consumo mensal para cada unidade \n",
    "adicional de tempo de fidelidade.\n",
    "- **Intercepto:** é o valor esperado do consumo mensal quando o tempo de fidelidade é zero.\n"
   ]
  },
  {
   "cell_type": "code",
   "execution_count": null,
   "id": "104b658a",
   "metadata": {},
   "outputs": [],
   "source": [
    "# Predições\n",
    "y_pred_simples = modelo_simples.predict(X)\n",
    "\n",
    "# Métricas\n",
    "r2 = r2_score(y, y_pred_simples)\n",
    "rmse = np.sqrt(mean_squared_error(y, y_pred_simples))\n",
    "\n",
    "print(\"R²:\", r2)\n",
    "print(\"RMSE:\", rmse)\n",
    "\n",
    "# Visualização\n",
    "plt.scatter(X, y, alpha=0.6, label=\"Dados reais\")\n",
    "plt.plot(X, y_pred_simples, color=\"red\", label=\"Regressão Linear\")\n",
    "plt.xlabel(\"Tempo de Fidelidade\")\n",
    "plt.ylabel(\"Consumo Mensal\")\n",
    "plt.legend()\n",
    "plt.show()\n"
   ]
  },
  {
   "cell_type": "markdown",
   "id": "bca1da5a",
   "metadata": {},
   "source": [
    "Agora expandiremos o modelo para múltiplas variáveis independentes.  \n",
    "Selecionaremos pelo menos **três variáveis relevantes** do dataset.\n"
   ]
  },
  {
   "cell_type": "code",
   "execution_count": null,
   "id": "c8cd8de6",
   "metadata": {},
   "outputs": [],
   "source": [
    "# Seleção de variáveis (ajuste para colunas existentes no seu dataset)\n",
    "X_multi = df[['tempo_fidelidade', 'numero_moradores', 'renda']]\n",
    "y = df['quantidade_consumo_mensal']\n",
    "\n",
    "# Modelo de regressão múltipla\n",
    "modelo_multi = LinearRegression()\n",
    "modelo_multi.fit(X_multi, y)\n",
    "\n",
    "print(\"Coeficientes:\", modelo_multi.coef_)\n",
    "print(\"Intercepto:\", modelo_multi.intercept_)\n"
   ]
  },
  {
   "cell_type": "markdown",
   "id": "c9ec3a44",
   "metadata": {},
   "source": [
    "Cada coeficiente mostra o **impacto médio** de uma variável independente no consumo mensal:\n",
    "\n",
    "- **Renda:** espera-se impacto positivo (maior renda → maior consumo).\n",
    "- **Número de moradores:** espera-se impacto positivo (mais pessoas → mais consumo).\n",
    "- **Tempo de fidelidade:** pode aumentar consumo, mas precisa ser validado.\n",
    "\n",
    "Caso algum coeficiente apresente sinal inesperado, isso pode indicar:\n",
    "- Correlação espúria.\n",
    "- Multicolinearidade.\n",
    "- Efeitos não-lineares.\n"
   ]
  },
  {
   "cell_type": "code",
   "execution_count": null,
   "id": "b1981797",
   "metadata": {},
   "outputs": [],
   "source": [
    "# Ajustando modelo com statsmodels para diagnóstico\n",
    "X_multi_sm = sm.add_constant(X_multi)\n",
    "modelo_sm = sm.OLS(y, X_multi_sm).fit()\n",
    "print(modelo_sm.summary())\n",
    "\n",
    "# Resíduos\n",
    "residuos = y - modelo_multi.predict(X_multi)\n",
    "\n",
    "# Distribuição dos resíduos\n",
    "sns.histplot(residuos, kde=True)\n",
    "plt.title(\"Distribuição dos Resíduos\")\n",
    "plt.show()\n",
    "\n",
    "# Resíduos vs Previsões\n",
    "sns.scatterplot(x=modelo_multi.predict(X_multi), y=residuos)\n",
    "plt.axhline(0, color='red', linestyle='--')\n",
    "plt.title(\"Resíduos vs Previsões\")\n",
    "plt.show()\n"
   ]
  },
  {
   "cell_type": "code",
   "execution_count": null,
   "id": "15cf724e",
   "metadata": {},
   "outputs": [],
   "source": [
    "\n",
    "kf = KFold(n_splits=5, shuffle=True, random_state=42)\n",
    "scores = cross_val_score(modelo_multi, X_multi, y, cv=kf, scoring=\"r2\")\n",
    "\n",
    "print(\"R² por fold:\", scores)\n",
    "print(\"Média R²:\", scores.mean())\n"
   ]
  },
  {
   "cell_type": "markdown",
   "id": "41009bcc",
   "metadata": {},
   "source": [
    "O modelo pode ser aplicado no **planejamento hospitalar**, ajudando em:\n",
    "\n",
    "- **Gestão de estoque:** prever consumo de insumos hospitalares mensalmente.\n",
    "- **Eficiência logística:** reduzir faltas e desperdícios.\n",
    "- **Suporte à decisão:** embasar políticas de compras e contratos.\n",
    "\n",
    "### Benefícios\n",
    "- Antecipação de demanda.\n",
    "- Otimização de custos.\n",
    "- Melhor alocação de recursos.\n",
    "\n",
    "### Limitações\n",
    "- Modelo assume linearidade.\n",
    "- Fatores externos (sazonalidade, emergências) não estão modelados.\n",
    "- Necessidade de atualização com novos dados.\n"
   ]
  }
 ],
 "metadata": {
  "kernelspec": {
   "display_name": "anaconda-toolbox",
   "language": "python",
   "name": "python3"
  },
  "language_info": {
   "codemirror_mode": {
    "name": "ipython",
    "version": 3
   },
   "file_extension": ".py",
   "mimetype": "text/x-python",
   "name": "python",
   "nbconvert_exporter": "python",
   "pygments_lexer": "ipython3",
   "version": "3.13.5"
  }
 },
 "nbformat": 4,
 "nbformat_minor": 5
}
