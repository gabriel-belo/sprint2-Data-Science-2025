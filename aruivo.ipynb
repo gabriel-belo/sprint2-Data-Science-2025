{
 "cells": [
  {
   "cell_type": "code",
   "execution_count": null,
   "id": "f2450237",
   "metadata": {},
   "outputs": [
    {
     "ename": "ModuleNotFoundError",
     "evalue": "No module named 'sklearn'",
     "output_type": "error",
     "traceback": [
      "\u001b[31m---------------------------------------------------------------------------\u001b[39m",
      "\u001b[31mModuleNotFoundError\u001b[39m                       Traceback (most recent call last)",
      "\u001b[36mCell\u001b[39m\u001b[36m \u001b[39m\u001b[32mIn[2]\u001b[39m\u001b[32m, line 3\u001b[39m\n\u001b[32m      1\u001b[39m \u001b[38;5;28;01mimport\u001b[39;00m\u001b[38;5;250m \u001b[39m\u001b[34;01mpandas\u001b[39;00m\u001b[38;5;250m \u001b[39m\u001b[38;5;28;01mas\u001b[39;00m\u001b[38;5;250m \u001b[39m\u001b[34;01mpd\u001b[39;00m\n\u001b[32m      2\u001b[39m \u001b[38;5;28;01mimport\u001b[39;00m\u001b[38;5;250m \u001b[39m\u001b[34;01mnumpy\u001b[39;00m\u001b[38;5;250m \u001b[39m\u001b[38;5;28;01mas\u001b[39;00m\u001b[38;5;250m \u001b[39m\u001b[34;01mnp\u001b[39;00m\n\u001b[32m----> \u001b[39m\u001b[32m3\u001b[39m \u001b[38;5;28;01mimport\u001b[39;00m\u001b[38;5;250m  \u001b[39m\u001b[34;01msklearn\u001b[39;00m\u001b[34;01m.\u001b[39;00m\u001b[34;01mmetrics\u001b[39;00m\n\u001b[32m      4\u001b[39m \u001b[38;5;66;03m#from sklearn.metrics import r2_score, mean_squared_error\u001b[39;00m\n\u001b[32m      5\u001b[39m \u001b[38;5;28;01mfrom\u001b[39;00m\u001b[38;5;250m \u001b[39m\u001b[34;01msklearn\u001b[39;00m\u001b[34;01m.\u001b[39;00m\u001b[34;01mmodel_selection\u001b[39;00m\u001b[38;5;250m \u001b[39m\u001b[38;5;28;01mimport\u001b[39;00m cross_val_score, KFold\n",
      "\u001b[31mModuleNotFoundError\u001b[39m: No module named 'sklearn'"
     ]
    }
   ],
   "source": [
    "import pandas as pd\n",
    "import numpy as np\n",
    "from sklearn.metrics import r2_score, mean_squared_error\n",
    "from sklearn.model_selection import cross_val_score, KFold\n",
    "from sklearn.linear_model import LinearRegression\n",
    "import matplotlib.pyplot as plt\n",
    "import seaborn as sns"
   ]
  },
  {
   "cell_type": "code",
   "execution_count": null,
   "id": "d666d78a",
   "metadata": {},
   "outputs": [],
   "source": [
    "# Simulando os dados\n",
    "np.random.seed(42)\n",
    "n = 100\n",
    "\n",
    "# Variáveis independentes\n",
    "numero_exames = np.random.randint(400, 1000, size=n)\n",
    "numero_funcionarios = np.random.randint(5, 20, size=n)\n",
    "dias_uteis = np.random.randint(18, 23, size=n)\n",
    "\n",
    "# Variável dependente com ruído\n",
    "consumo_mensal = (2.3 * numero_exames) + (30 * numero_funcionarios) + (50 * dias_uteis) + np.random.normal(0, 1000, size=n)\n",
    "\n",
    "# DataFrame\n",
    "df = pd.DataFrame({\n",
    "    \"numero_exames\": numero_exames,\n",
    "    \"numero_funcionarios\": numero_funcionarios,\n",
    "    \"dias_uteis\": dias_uteis,\n",
    "    \"consumo_mensal\": consumo_mensal\n",
    "})\n",
    "\n",
    "df.head()\n"
   ]
  },
  {
   "cell_type": "markdown",
   "id": "a8f0872e",
   "metadata": {},
   "source": [
    "**Problema**: Baixa visibilidade no consumo real de insumos nas unidades de diagnóstico.\n",
    "\n",
    "**Objetivo**: Prever a **quantidade de consumo mensal** com base em variáveis operacionais.\n",
    "\n",
    "**Variável alvo**: `consumo_mensal`\n",
    "\n",
    "**Variável preditora (simples)**: `numero_exames`\n",
    "\n",
    "Para validar uma regressão linear, os seguintes pressupostos devem ser testados:\n",
    "\n",
    "1. **Linearidade**: Relação linear entre preditores e variável alvo (verificado com scatter plot).\n",
    "2. **Homoscedasticidade**: Resíduos com variância constante (plot resíduos vs. predição).\n",
    "3. **Normalidade dos resíduos**: Verificado com histograma e teste de Shapiro-Wilk.\n",
    "4. **Independência dos resíduos**: Importante em dados temporais (pode ser ignorado aqui).\n"
   ]
  },
  {
   "cell_type": "code",
   "execution_count": null,
   "id": "ebd557f6",
   "metadata": {},
   "outputs": [],
   "source": [
    "X_simple = df[['numero_exames']]\n",
    "y = df['consumo_mensal']\n",
    "\n",
    "modelo_simples = LinearRegression()\n",
    "modelo_simples.fit(X_simple, y)\n",
    "\n",
    "# Previsões\n",
    "df['y_pred_simples'] = modelo_simples.predict(X_simple)\n",
    "\n",
    "# Visualização\n",
    "plt.figure(figsize=(10, 6))\n",
    "sns.scatterplot(x='numero_exames', y='consumo_mensal', data=df, label=\"Dados reais\")\n",
    "sns.lineplot(x='numero_exames', y='y_pred_simples', data=df, color='red', label=\"Regressão Linear\")\n",
    "plt.title(\"Regressão Linear Simples: Consumo vs Número de Exames\")\n",
    "plt.xlabel(\"Número de Exames\")\n",
    "plt.ylabel(\"Consumo Mensal de Insumos\")\n",
    "plt.legend()\n",
    "plt.grid(True)\n",
    "plt.show()\n"
   ]
  },
  {
   "cell_type": "code",
   "execution_count": null,
   "id": "1cc1ec3e",
   "metadata": {},
   "outputs": [],
   "source": [
    "print(\"Intercepto:\", modelo_simples.intercept_)\n",
    "print(\"Inclinação:\", modelo_simples.coef_[0])\n"
   ]
  },
  {
   "cell_type": "markdown",
   "id": "29cf1f8b",
   "metadata": {},
   "source": [
    "O coeficiente angular (inclinação) indica o quanto o consumo aumenta a cada exame adicional realizado.\n",
    "O intercepto indica o consumo estimado quando o número de exames é zero.\n"
   ]
  },
  {
   "cell_type": "code",
   "execution_count": null,
   "id": "14f8a2f7",
   "metadata": {},
   "outputs": [],
   "source": [
    "r2_simple = r2_score(y, df['y_pred_simples'])\n",
    "rmse_simple = np.sqrt(mean_squared_error(y, df['y_pred_simples']))\n",
    "\n",
    "print(f\"R²: {r2_simple:.4f}\")\n",
    "print(f\"RMSE: {rmse_simple:.2f}\")\n"
   ]
  },
  {
   "cell_type": "code",
   "execution_count": null,
   "id": "beb4c62a",
   "metadata": {},
   "outputs": [],
   "source": [
    "X_multi = df[['numero_exames', 'numero_funcionarios', 'dias_uteis']]\n",
    "modelo_multi = LinearRegression()\n",
    "modelo_multi.fit(X_multi, y)\n",
    "df['y_pred_multi'] = modelo_multi.predict(X_multi)\n"
   ]
  },
  {
   "cell_type": "code",
   "execution_count": null,
   "id": "eb9f47a7",
   "metadata": {},
   "outputs": [],
   "source": [
    "coeficientes = pd.DataFrame({\n",
    "    'Variável': X_multi.columns,\n",
    "    'Coeficiente': modelo_multi.coef_\n",
    "})\n",
    "print(coeficientes)\n"
   ]
  },
  {
   "cell_type": "code",
   "execution_count": null,
   "id": "bae2b2b2",
   "metadata": {},
   "outputs": [],
   "source": [
    "coeficientes = pd.DataFrame({\n",
    "    'Variável': X_multi.columns,\n",
    "    'Coeficiente': modelo_multi.coef_\n",
    "})\n",
    "print(coeficientes)\n"
   ]
  },
  {
   "cell_type": "markdown",
   "id": "c8e1df58",
   "metadata": {},
   "source": [
    "Aqui analisamos quais variáveis têm maior impacto no consumo.\n",
    "\n",
    "- `numero_exames`: impacto direto\n",
    "- `numero_funcionarios`: impacto operacional\n",
    "- `dias_uteis`: influencia no tempo de operação\n"
   ]
  },
  {
   "cell_type": "code",
   "execution_count": null,
   "id": "3e1356bf",
   "metadata": {},
   "outputs": [],
   "source": [
    "residuos = y - df['y_pred_multi']\n",
    "\n",
    "# Histograma dos resíduos\n",
    "plt.figure(figsize=(8, 4))\n",
    "sns.histplot(residuos, kde=True, bins=20)\n",
    "plt.title(\"Distribuição dos Resíduos\")\n",
    "plt.xlabel(\"Resíduo\")\n",
    "plt.show()\n",
    "\n",
    "# Resíduos vs Preditos\n",
    "plt.figure(figsize=(8, 4))\n",
    "sns.scatterplot(x=df['y_pred_multi'], y=residuos)\n",
    "plt.axhline(0, color='red', linestyle='--')\n",
    "plt.title(\"Resíduos vs Valores Preditos\")\n",
    "plt.xlabel(\"Valor Predito\")\n",
    "plt.ylabel(\"Resíduo\")\n",
    "plt.show()\n",
    "\n",
    "# Teste de normalidade dos resíduos\n",
    "from scipy.stats import shapiro\n",
    "stat, p_value = shapiro(residuos)\n",
    "print(f\"Shapiro-Wilk p-value: {p_value:.4f}\")\n"
   ]
  },
  {
   "cell_type": "code",
   "execution_count": null,
   "id": "e4837691",
   "metadata": {},
   "outputs": [],
   "source": [
    "kf = KFold(n_splits=5, shuffle=True, random_state=42)\n",
    "rmse_scores = -cross_val_score(modelo_multi, X_multi, y, scoring='neg_root_mean_squared_error', cv=kf)\n",
    "\n",
    "print(f\"RMSE médio na validação cruzada: {rmse_scores.mean():.2f}\")\n",
    "print(f\"RMSEs individuais: {rmse_scores}\")\n"
   ]
  },
  {
   "cell_type": "markdown",
   "id": "1e7a615c",
   "metadata": {},
   "source": [
    "### Aplicação Prática:\n",
    "\n",
    "Este modelo permite prever o consumo mensal de insumos com base em variáveis operacionais:\n",
    "\n",
    "- **Benefícios**:\n",
    "  - Melhor controle de estoque\n",
    "  - Redução de perdas por falta ou excesso de materiais\n",
    "  - Apoio ao planejamento logístico e compras\n",
    "\n",
    "- **Limitações**:\n",
    "  - Não considera eventos extraordinários\n",
    "  - Depende da qualidade da entrada de dados\n",
    "  - Não é adequado para mudanças abruptas sem re-treinamento\n"
   ]
  }
 ],
 "metadata": {
  "kernelspec": {
   "display_name": "anaconda-toolbox",
   "language": "python",
   "name": "python3"
  },
  "language_info": {
   "codemirror_mode": {
    "name": "ipython",
    "version": 3
   },
   "file_extension": ".py",
   "mimetype": "text/x-python",
   "name": "python",
   "nbconvert_exporter": "python",
   "pygments_lexer": "ipython3",
   "version": "3.13.5"
  }
 },
 "nbformat": 4,
 "nbformat_minor": 5
}
